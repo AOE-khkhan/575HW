{
 "cells": [
  {
   "cell_type": "markdown",
   "metadata": {},
   "source": [
    "# Homework 7\n",
    "### Landon Wright"
   ]
  },
  {
   "cell_type": "markdown",
   "metadata": {},
   "source": [
    "##### The first part of this document is me setting up code to make the last part simple."
   ]
  },
  {
   "cell_type": "code",
   "execution_count": 203,
   "metadata": {
    "collapsed": false
   },
   "outputs": [
    {
     "name": "stdout",
     "output_type": "stream",
     "text": [
      "f⁰ = 17 \n",
      "g⁰ = 2.4375 \n",
      "∇f⁰ = [8, 6] \n",
      "∇g⁰ = [1.5, 0.75]\n",
      "p⁰ = 17\n"
     ]
    }
   ],
   "source": [
    "f(x) = x[1]^4 - 2 * x[2]*x[1]^2 + x[2]^2 + x[1]^2 - 2*x[1] + 5\n",
    "g(x) = -(x[1] + 0.25)^2 + 0.75x[2] #>= 0\n",
    "∇f(x) = [4x[1]^3 - 4 * x[2] * x[1] + 2 * x[1] - 2; -2 * x[1]^2 + 2 * x[2]]\n",
    "∇g(x) = [-2x[1] - 0.5; 0.75]\n",
    "function pen(x, λ)\n",
    "    f_val = f(x)\n",
    "    g_val = g(x)\n",
    "    if g_val < 0\n",
    "        return f_val + λ * abs(g_val)\n",
    "    else\n",
    "        return f_val\n",
    "    end \n",
    "end\n",
    "function BFGS(h, γ, Δx)\n",
    "    t1 = h\n",
    "    t2 = (γ * γ') / (γ' * Δx)\n",
    "    t3 = (h * Δx * Δx' * h) / (Δx' * h * Δx)\n",
    "#     println(t1,\n",
    "#     t2,\n",
    "#     t3)\n",
    "    return t1 + t2 - t3\n",
    "end\n",
    "\n",
    "x0  = [-1, 4]\n",
    "f0 = f(x0)\n",
    "g0 = g(x0)\n",
    "∇f0 = ∇f(x0)\n",
    "∇g0 = ∇g(x0)\n",
    "p0 = pen(x0, 0)\n",
    "println(\"f⁰ = $f0 \\ng⁰ = $g0 \\n∇f⁰ = $∇f0 \\n∇g⁰ = $∇g0\\np⁰ = $p0\")"
   ]
  },
  {
   "cell_type": "code",
   "execution_count": 204,
   "metadata": {
    "collapsed": false
   },
   "outputs": [
    {
     "name": "stdout",
     "output_type": "stream",
     "text": [
      "x1 = [-1.5, 1.75]\n",
      "λ1 = 5.0\n",
      "f1 = 10.5\n",
      "g1 = -0.25\n",
      "∇f1 = [-8.0, -1.0]\n",
      "∇g1 = [2.5, 0.75]\n",
      "p1 = 11.75\n"
     ]
    },
    {
     "data": {
      "text/plain": [
       "2×2 Array{Float64,2}:\n",
       " 17.7529   5.38824\n",
       "  5.38824  1.91373"
      ]
     },
     "execution_count": 204,
     "metadata": {},
     "output_type": "execute_result"
    }
   ],
   "source": [
    "a = [1 0 -1.5; 0 1 -0.75; 1.5 0.75 0]\n",
    "b = [-8; -6; -2.4375]\n",
    "c1 = a\\b\n",
    "Δx = c1[1:2]\n",
    "λ1 = c1[3]\n",
    "x1 = x0 + Δx\n",
    "f1 = f(x1)\n",
    "g1 = g(x1)\n",
    "∇f1 = ∇f(x1)\n",
    "∇g1 = ∇g(x1)\n",
    "p1 = pen(x1, c[3])\n",
    "println(\"x1 = $x1\n",
    "λ1 = $λ1\n",
    "f1 = $f1\n",
    "g1 = $g1\n",
    "∇f1 = $∇f1\n",
    "∇g1 = $∇g1\n",
    "p1 = $p\")\n",
    "\n",
    "\n",
    "    \n",
    "hess = BFGS([1 0; 0 1], [-21; -7], Δx)\n"
   ]
  },
  {
   "cell_type": "code",
   "execution_count": 205,
   "metadata": {
    "collapsed": false
   },
   "outputs": [
    {
     "name": "stdout",
     "output_type": "stream",
     "text": [
      "x2 = [-0.496032, -0.815476]\n",
      "λ2 = 0\n",
      "f2 = 7.364943515867029\n",
      "g2 = -0.6721387629125684\n",
      "∇f2 = [-5.09826, -2.12305]\n",
      "∇g2 = [0.492063, 0.75]\n",
      "p2 = 7.364943515867029\n"
     ]
    }
   ],
   "source": [
    "a = zeros(3, 3)\n",
    "a[1:2, 1:2] = hess\n",
    "a[1, 3] = -∇g1[1]\n",
    "a[2, 3] = -∇g1[2]\n",
    "a[3, 1] = ∇g1[1]\n",
    "a[3, 2] = ∇g1[2]\n",
    "a[3, 3] = 0\n",
    "a\n",
    "b[1] = -∇f1[1]\n",
    "b[2] = -∇f1[2]\n",
    "b[3] = -g1\n",
    "c2 = a\\b\n",
    "\n",
    "a2 = a[1:2, 1:2]\n",
    "b2 = b[1:2]\n",
    "c2 = a2\\b2\n",
    "λ2 = 0\n",
    "\n",
    "x2 = x1 + c2\n",
    "p2 = pen(x2, 0)\n",
    "x2 = x1 + 0.5 * c2\n",
    "p2 = pen(x2, 0)\n",
    "f2 = f(x2)\n",
    "g2 = g(x2)\n",
    "∇f2 = ∇f(x2)\n",
    "∇g2 = ∇g(x2)\n",
    "println(\"x2 = $x2\n",
    "λ2 = $λ2\n",
    "f2 = $f2\n",
    "g2 = $g2\n",
    "∇f2 = $∇f2\n",
    "∇g2 = $∇g2\n",
    "p2 = $p2\")"
   ]
  },
  {
   "cell_type": "markdown",
   "metadata": {},
   "source": [
    "### Perform the update for the lagrangian hessian for iteration 3"
   ]
  },
  {
   "cell_type": "code",
   "execution_count": 206,
   "metadata": {
    "collapsed": false
   },
   "outputs": [
    {
     "data": {
      "text/plain": [
       "2×2 Array{Float64,2}:\n",
       " 13.352    4.09407\n",
       "  4.09407  2.03992"
      ]
     },
     "execution_count": 206,
     "metadata": {},
     "output_type": "execute_result"
    }
   ],
   "source": [
    "∇l1 = ∇f1 - λ2 * ∇g1\n",
    "∇l2 = ∇f2 - λ2 * ∇g2\n",
    "γ1 = ∇l2 - ∇l1\n",
    "Δx1 = x2 - x1\n",
    "hess2 = BFGS(hess, γ1, Δx1)"
   ]
  },
  {
   "cell_type": "markdown",
   "metadata": {},
   "source": [
    "We now perform the update for the next iteration (3)"
   ]
  },
  {
   "cell_type": "code",
   "execution_count": 207,
   "metadata": {
    "collapsed": false
   },
   "outputs": [
    {
     "name": "stdout",
     "output_type": "stream",
     "text": [
      "x3 = [-0.356526, -0.0108186]\n",
      "λ3 = 0.11938042184196915\n",
      "f3 = 5.859187854408041\n",
      "g3 = -0.01946180129956806\n",
      "∇f3 = [-2.90975, -0.275859]\n",
      "∇g3 = [0.213052, 0.75]\n",
      "p3 = 5.808279749643016\n"
     ]
    }
   ],
   "source": [
    "a = zeros(3, 3)\n",
    "a[1:2, 1:2] = hess2\n",
    "a[1, 3] = -∇g2[1]\n",
    "a[2, 3] = -∇g2[2]\n",
    "a[3, 1] = ∇g2[1]\n",
    "a[3, 2] = ∇g2[2]\n",
    "a[3, 3] = 0\n",
    "a\n",
    "b[1] = -∇f2[1]\n",
    "b[2] = -∇f2[2]\n",
    "b[3] = -g2\n",
    "c3 = a\\b\n",
    "\n",
    "λ3 = c3[3]\n",
    "x3 = x2 + c3[1:2]\n",
    "p3 = pen(x3, c[3])\n",
    "f3 = f(x3)\n",
    "g3 = g(x3)\n",
    "∇f3 = ∇f(x3)\n",
    "∇g3 = ∇g(x3)\n",
    "println(\"x3 = $x3\n",
    "λ3 = $λ3\n",
    "f3 = $f3\n",
    "g3 = $g3\n",
    "∇f3 = $∇f3\n",
    "∇g3 = $∇g3\n",
    "p3 = $p3\")"
   ]
  },
  {
   "cell_type": "markdown",
   "metadata": {},
   "source": [
    "We now perform the hessian update"
   ]
  },
  {
   "cell_type": "code",
   "execution_count": 208,
   "metadata": {
    "collapsed": false
   },
   "outputs": [
    {
     "data": {
      "text/plain": [
       "2×2 Array{Float64,2}:\n",
       " 5.46139  1.81434\n",
       " 1.81434  1.98106"
      ]
     },
     "execution_count": 208,
     "metadata": {},
     "output_type": "execute_result"
    }
   ],
   "source": [
    "∇l1 = ∇f2 - λ3 * ∇g2\n",
    "∇l2 = ∇f3 - λ3 * ∇g3\n",
    "γ2 = ∇l2 - ∇l1\n",
    "Δx2 = x3 - x2\n",
    "hess3 = BFGS(hess2, γ2, Δx2)"
   ]
  },
  {
   "cell_type": "markdown",
   "metadata": {},
   "source": [
    "We now perform the fourth iteration"
   ]
  },
  {
   "cell_type": "code",
   "execution_count": 209,
   "metadata": {
    "collapsed": false
   },
   "outputs": [
    {
     "name": "stdout",
     "output_type": "stream",
     "text": [
      "x4 = [0.253198, -0.158074]\n",
      "λ4 = 0.7182189754054158\n",
      "f4 = 4.607078778381921\n",
      "g4 = -0.37176331579725186\n",
      "∇f4 = [-1.26858, -0.444366]\n",
      "∇g4 = [-1.0064, 0.75]\n",
      "p4 = 4.874086246147144\n"
     ]
    }
   ],
   "source": [
    "a = zeros(3, 3)\n",
    "∇g_cur = ∇g3\n",
    "∇f_cur = ∇f3\n",
    "a[1:2, 1:2] = hess3\n",
    "a[1, 3] = -∇g_cur[1]\n",
    "a[2, 3] = -∇g_cur[2]\n",
    "a[3, 1] = ∇g_cur[1]\n",
    "a[3, 2] = ∇g_cur[2]\n",
    "a[3, 3] = 0\n",
    "a\n",
    "b[1] = -∇f_cur[1]\n",
    "b[2] = -∇f_cur[2]\n",
    "b[3] = -g3\n",
    "c4 = a\\b\n",
    "\n",
    "λ4 = c4[3]\n",
    "x4 = x3 + c4[1:2]\n",
    "p4 = pen(x4, c4[3])\n",
    "f4 = f(x4)\n",
    "g4 = g(x4)\n",
    "∇f4 = ∇f(x4)\n",
    "∇g4 = ∇g(x4)\n",
    "println(\"x4 = $x4\n",
    "λ4 = $λ4\n",
    "f4 = $f4\n",
    "g4 = $g4\n",
    "∇f4 = $∇f4\n",
    "∇g4 = $∇g4\n",
    "p4 = $p4\")"
   ]
  },
  {
   "cell_type": "markdown",
   "metadata": {},
   "source": [
    "Perform the BFGS update for iteration 5"
   ]
  },
  {
   "cell_type": "code",
   "execution_count": 210,
   "metadata": {
    "collapsed": false
   },
   "outputs": [
    {
     "data": {
      "text/plain": [
       "2×2 Array{Float64,2}:\n",
       " 4.15583  0.11479\n",
       " 0.11479  1.61962"
      ]
     },
     "execution_count": 210,
     "metadata": {},
     "output_type": "execute_result"
    }
   ],
   "source": [
    "∇l1 = ∇f3 - λ4 * ∇g3\n",
    "∇l2 = ∇f4 - λ4 * ∇g4\n",
    "γ3 = ∇l2 - ∇l1\n",
    "Δx3 = x4 - x3\n",
    "hess4 = BFGS(hess3, γ3, Δx3)"
   ]
  },
  {
   "cell_type": "markdown",
   "metadata": {},
   "source": [
    "Perform iteration 5"
   ]
  },
  {
   "cell_type": "code",
   "execution_count": 211,
   "metadata": {
    "collapsed": false
   },
   "outputs": [
    {
     "name": "stdout",
     "output_type": "stream",
     "text": [
      "x5 = [0.352205, 0.470464]\n",
      "λ5 = 0.7799858903614741\n",
      "f5 = 4.53964289990917\n",
      "g5 = -0.009802349649705555\n",
      "∇f5 = [-1.78363, 0.692832]\n",
      "∇g5 = [-1.20441, 0.75]\n",
      "p5 = 4.54728859432833\n"
     ]
    }
   ],
   "source": [
    "a = zeros(3, 3)\n",
    "∇g_cur = ∇g4\n",
    "∇f_cur = ∇f4\n",
    "a[1:2, 1:2] = hess4\n",
    "a[1, 3] = -∇g_cur[1]\n",
    "a[2, 3] = -∇g_cur[2]\n",
    "a[3, 1] = ∇g_cur[1]\n",
    "a[3, 2] = ∇g_cur[2]\n",
    "a[3, 3] = 0\n",
    "a\n",
    "b[1] = -∇f_cur[1]\n",
    "b[2] = -∇f_cur[2]\n",
    "b[3] = -g4\n",
    "c5 = a\\b\n",
    "\n",
    "λ5 = c5[3]\n",
    "x5 = x4 + c5[1:2]\n",
    "p5 = pen(x5, c5[3])\n",
    "f5 = f(x5)\n",
    "g5 = g(x5)\n",
    "∇f5 = ∇f(x5)\n",
    "∇g5 = ∇g(x5)\n",
    "println(\"x5 = $x5\n",
    "λ5 = $λ5\n",
    "f5 = $f5\n",
    "g5 = $g5\n",
    "∇f5 = $∇f5\n",
    "∇g5 = $∇g5\n",
    "p5 = $p5\")"
   ]
  },
  {
   "cell_type": "markdown",
   "metadata": {},
   "source": [
    "Perform the BFGS update"
   ]
  },
  {
   "cell_type": "code",
   "execution_count": 212,
   "metadata": {
    "collapsed": false
   },
   "outputs": [
    {
     "data": {
      "text/plain": [
       "2×2 Array{Float64,2}:\n",
       "  4.01074  -1.20548\n",
       " -1.20548   1.99916"
      ]
     },
     "execution_count": 212,
     "metadata": {},
     "output_type": "execute_result"
    }
   ],
   "source": [
    "∇l1 = ∇f4 - λ5 * ∇g4\n",
    "∇l2 = ∇f5 - λ5 * ∇g5\n",
    "γ4 = ∇l2 - ∇l1\n",
    "Δx4 = x5 - x4\n",
    "hess5 = BFGS(hess4, γ4, Δx4)"
   ]
  },
  {
   "cell_type": "markdown",
   "metadata": {},
   "source": [
    "Perform iteration 6"
   ]
  },
  {
   "cell_type": "code",
   "execution_count": 215,
   "metadata": {
    "collapsed": false
   },
   "outputs": [
    {
     "name": "stdout",
     "output_type": "stream",
     "text": [
      "x6 = [0.473994, 0.679113]\n",
      "λ6 = 1.284185632121459\n",
      "f6 = 4.483200448250253\n",
      "g6 = -0.01483260680208942\n",
      "∇f6 = [-1.91362, 0.908885]\n",
      "∇g6 = [-1.44799, 0.75]\n",
      "p6 = 4.502248268792403\n"
     ]
    }
   ],
   "source": [
    "a = zeros(3, 3)\n",
    "∇g_cur = ∇g5\n",
    "∇f_cur = ∇f5\n",
    "a[1:2, 1:2] = hess5\n",
    "a[1, 3] = -∇g_cur[1]\n",
    "a[2, 3] = -∇g_cur[2]\n",
    "a[3, 1] = ∇g_cur[1]\n",
    "a[3, 2] = ∇g_cur[2]\n",
    "a[3, 3] = 0\n",
    "a\n",
    "b[1] = -∇f_cur[1]\n",
    "b[2] = -∇f_cur[2]\n",
    "b[3] = -g5\n",
    "c6 = a\\b\n",
    "\n",
    "λ6 = c6[3]\n",
    "x6 = x5 + c6[1:2]\n",
    "p6 = pen(x6, c6[3])\n",
    "f6 = f(x6)\n",
    "g6 = g(x6)\n",
    "∇f6 = ∇f(x6)\n",
    "∇g6 = ∇g(x6)\n",
    "println(\"x6 = $x6\n",
    "λ6 = $λ6\n",
    "f6 = $f6\n",
    "g6 = $g6\n",
    "∇f6 = $∇f6\n",
    "∇g6 = $∇g6\n",
    "p6 = $p6\")"
   ]
  },
  {
   "cell_type": "code",
   "execution_count": null,
   "metadata": {
    "collapsed": true
   },
   "outputs": [],
   "source": []
  },
  {
   "cell_type": "code",
   "execution_count": null,
   "metadata": {
    "collapsed": true
   },
   "outputs": [],
   "source": []
  }
 ],
 "metadata": {
  "kernelspec": {
   "display_name": "Julia 0.6.2",
   "language": "julia",
   "name": "julia-0.6"
  },
  "language_info": {
   "file_extension": ".jl",
   "mimetype": "application/julia",
   "name": "julia",
   "version": "0.6.2"
  }
 },
 "nbformat": 4,
 "nbformat_minor": 2
}

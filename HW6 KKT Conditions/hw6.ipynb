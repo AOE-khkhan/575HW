{
 "cells": [
  {
   "cell_type": "markdown",
   "metadata": {},
   "source": [
    "# Problem 1\n",
    "Solve the following problem using KKT conditions\n",
    "$$Min~~f = 4x_1 - 3x_2 + 2x_1^2 - 3x_1x_2 + 4x_2^2$$\n",
    "$$g_1(x):~~2x_1 - 1.5x_2 = 5$$"
   ]
  },
  {
   "cell_type": "markdown",
   "metadata": {},
   "source": [
    "The KKT conditions can be written as:\n",
    "\\begin{align}\n",
    "\\frac{\\partial f}{\\partial x_1} - \\lambda \\frac{\\partial g_1}{\\partial x_1} = 0\\\\\n",
    "\\frac{\\partial f}{\\partial x_2} - \\lambda \\frac{\\partial g_1}{\\partial x_2} = 0\\\\\n",
    "g_1(x) - b_1 = 0\n",
    "\\end{align}\n",
    "which evaluates to:\n",
    "\\begin{align}\n",
    "4x_1 - 3x_2 - 2\\lambda = -4\\\\\n",
    "-3x_1 + 8x_2 + 1.5\\lambda = 3\\\\\n",
    "2x_1 - 1.5x_2 - 5 = 0\n",
    "\\end{align}\n",
    "This can be solved using a system of linear equations\n"
   ]
  },
  {
   "cell_type": "code",
   "execution_count": 115,
   "metadata": {},
   "outputs": [
    {
     "name": "stdout",
     "output_type": "stream",
     "text": [
      "[2.5, 0.0, 7.0]\n",
      "Optimum: 22.5\n"
     ]
    }
   ],
   "source": [
    "A = [4 -3 -2; -3 8 1.5; 2 -1.5 0];\n",
    "b = [-4; 3; 5];\n",
    "c = A\\b\n",
    "println(c)\n",
    "\n",
    "fun(x1, x2) = 4x1 -3x2 + 2*x1^2 - 3x1*x2 + 4 * x2^2\n",
    "opt = fun(c[1], c[2])\n",
    "println(\"Optimum: \", opt)"
   ]
  },
  {
   "cell_type": "markdown",
   "metadata": {},
   "source": [
    "The Values then are:\n",
    "\\begin{align}\n",
    "x_1 = 2.5\\\\\n",
    "x_2 = 0\\\\\n",
    "\\lambda = 7\n",
    "\\end{align}\n",
    "which gives the objective\n",
    "$$ f = 22.5$$\n"
   ]
  },
  {
   "cell_type": "markdown",
   "metadata": {},
   "source": [
    "### (b) Change the constraint to be:\n",
    "$$g_1(x) = 2x_1 - 1.5x_2 = 5.1$$\n",
    "because the change in the constraint is 0.1 we expect that the change in the objective will be $0.1 * \\lambda = 0.7$"
   ]
  },
  {
   "cell_type": "code",
   "execution_count": 116,
   "metadata": {},
   "outputs": [
    {
     "name": "stdout",
     "output_type": "stream",
     "text": [
      "[2.55, 0.0, 7.1]\n",
      "New optimum: 22.5\n",
      "Change in optimum: 0.7049999999999983\n"
     ]
    }
   ],
   "source": [
    "A = [4 -3 -2; -3 8 1.5; 2 -1.5 0];\n",
    "b2 = [-4; 3; 5.1];\n",
    "c2 = A\\b2\n",
    "print(c2)\n",
    "\n",
    "fun(x1, x2) = 4x1 -3x2 + 2*x1^2 - 3x1*x2 + 4 * x2^2\n",
    "opt2 = fun(c2[1], c2[2])\n",
    "println(\"\\nNew optimum: \", opt)\n",
    "delta_opt = opt2 - opt\n",
    "println(\"Change in optimum: \", delta_opt)"
   ]
  },
  {
   "cell_type": "markdown",
   "metadata": {},
   "source": [
    "As we can see the change in the optimum value was 0.705 which is very close to the predicted value of 0.7. This shows that the $\\lambda$ value accurately predicts the change in the optimum."
   ]
  },
  {
   "cell_type": "markdown",
   "metadata": {},
   "source": [
    "### (c) Are the KKT equations for a problem with quadratic objective and a linear equality constraint always linear? Is this true for a problem with a quadratic objective and a linear inequality constraint?"
   ]
  },
  {
   "cell_type": "markdown",
   "metadata": {
    "collapsed": true
   },
   "source": [
    "If the problem has a quadratic objective and a linear equality constrant then the KKT equations will be linear,\n",
    "if a linear inequality constraint is present than the problem will also be linear."
   ]
  },
  {
   "cell_type": "markdown",
   "metadata": {},
   "source": [
    "## Problem 3: Solve the following problem using KKT conditions\n",
    "\n",
    "$$Min~f(x) = x_1^2 + 2x_2^2 + 3x_3^2$$\n",
    "$$g_1(x): x_1 + 5x_2 = 12$$\n",
    "$$g_2(x): -2x_1-x_2 - 4x_3 \\leq -18$$"
   ]
  },
  {
   "cell_type": "markdown",
   "metadata": {},
   "source": [
    "First we must formulate the problem to match the required format. We change $g_2$ to be:\n",
    "$$g_2(x): 2x_1 - x_2 + 4x_3 - 18 \\leq 0$$\n",
    "which in turn formulates the system of linear equations representing the KKT Conditions:\n",
    "\\begin{align}\n",
    "\\begin{bmatrix}\n",
    " 2&  0&  0&  -1& 2\\\\ \n",
    " 0&  4&  0&  -5& -1\\\\ \n",
    " 0&  0&  6&  0& 4\\\\ \n",
    " 2&  -1&  4&  0& 0\\\\ \n",
    " 1&  5&  0&  0& 0\n",
    "\\end{bmatrix} * \n",
    "\\begin{bmatrix}\n",
    "x_1 \\\\\n",
    "x_2 \\\\\n",
    "x_3 \\\\\n",
    "\\lambda_2 \\\\\n",
    "\\lambda_1 \n",
    "\\end{bmatrix} = \n",
    "\\begin{bmatrix}\n",
    "0\\\\0\\\\0\\\\18\\\\12\n",
    "\\end{bmatrix}\n",
    "\\end{align}"
   ]
  },
  {
   "cell_type": "code",
   "execution_count": 124,
   "metadata": {},
   "outputs": [
    {
     "name": "stdout",
     "output_type": "stream",
     "text": [
      "The values of the x vector are: [4.71698, 1.4566, 2.50566, 1.91698, -3.75849]\n",
      "g1 evaluates to: 3.907985046680551e-14\n",
      "g2 evaluates to: 3.552713678800501e-15\n"
     ]
    }
   ],
   "source": [
    "A = [2 0 0 -1 2\n",
    "     0 4 0 -5 -1\n",
    "     0 0 6 0 4\n",
    "     2 -1 4 0 0\n",
    "     1 5 0 0 0]\n",
    "b = [0\n",
    "     0\n",
    "     0\n",
    "     18\n",
    "     12]\n",
    "x = A\\b\n",
    "println(\"The values of the x vector are: $x\")\n",
    "g2(x1, x2, x3) = 2*x1 - x2 + 4x3 - 18\n",
    "g1(x1, x2) = x1 + 5x2 - 12\n",
    "g1_x = g1(x[1], x[2])\n",
    "g2_x = g2(x[1], x[2], x[3])\n",
    "println(\"g1 evaluates to: $g1_x\")\n",
    "println(\"g2 evaluates to: $g2_x\")"
   ]
  },
  {
   "cell_type": "markdown",
   "metadata": {},
   "source": [
    "Here we can see that:\n",
    "$$x_1 = 4.717\\\\\n",
    "x_2 = 1.457\\\\\n",
    "x_3 = 2.506\\\\\n",
    "\\lambda_1 = -3.7585\\\\\n",
    "\\lambda_2 = 1.9170$$\n",
    "We also note from the code that both of the constraints are binding.  This satisfies the neccessary conditions for an optimum\n",
    "\n",
    "To check the sufficient conditions we must check that $\\nabla_x^2L(\\textbf{x}^*, \\lambda^*)$ is positive definite\n",
    "\n",
    "$$\\nabla_x^2L(\\textbf{x}^*, \\lambda^*) = \\begin{bmatrix} 1&0&0\\\\ 0&4&0\\\\ 0&0&6 \\end{bmatrix}\n",
    " - \\lambda_1 \\begin{bmatrix} 0&0&0\\\\0&0&0\\\\0&0&0\\end{bmatrix} \n",
    " - \\lambda_2 \\begin{bmatrix} 0&0&0\\\\0&0&0\\\\0&0&0\\end{bmatrix} = \\begin{bmatrix} 1&0&0\\\\ 0&4&0\\\\ 0&0&6 \\end{bmatrix}$$"
   ]
  },
  {
   "cell_type": "code",
   "execution_count": 126,
   "metadata": {},
   "outputs": [
    {
     "name": "stdout",
     "output_type": "stream",
     "text": [
      "The values correspond to a constrained optimum\n"
     ]
    }
   ],
   "source": [
    "L = [1 0 0\n",
    "    0 4 0\n",
    "    0 0 6]\n",
    "isOpt = isposdef(L)\n",
    "if isOpt\n",
    "    println(\"The values correspond to a constrained optimum\")\n",
    "end"
   ]
  },
  {
   "cell_type": "markdown",
   "metadata": {
    "collapsed": true
   },
   "source": [
    "because the hessian of the lagrangian function is postive definite then we can conclude that the point is a constrained minimum."
   ]
  },
  {
   "cell_type": "markdown",
   "metadata": {},
   "source": [
    "## Problem 4\n",
    "$$Min~f(x) = x_1^2 + x_2^2\\\\\n",
    "g_1(x)=x_1^2+x_2^2 - 9 = 0\\\\\n",
    "g_2(x)=x_1+x_2^2-1\\leq 0\\\\\n",
    "g_3(x)=x_1+x_2-1\\leq 0$$\n",
    "Once again the inequality constraints must be reformatted\n",
    "$$g_2(x)=-x_1-x_2^2+1\\geq 0\\\\\n",
    "g_3(x)=-x_1-x_2+1\\geq 0$$"
   ]
  },
  {
   "cell_type": "markdown",
   "metadata": {},
   "source": [
    "### (a) Verify that [-2.3723, -1.8364] is a local optimum\n",
    "Check which constraints are binding"
   ]
  },
  {
   "cell_type": "code",
   "execution_count": 119,
   "metadata": {},
   "outputs": [
    {
     "name": "stdout",
     "output_type": "stream",
     "text": [
      "g1 = 0.00017225000000031798\n",
      "g2 = 6.49600000000028e-5\n",
      "g3 = -5.2087\n"
     ]
    }
   ],
   "source": [
    "x = [-2.3723 -1.8364]\n",
    "g1(x) = x[1]^2 + x[2]^2 - 9\n",
    "g2(x) = x[1] + x[2]^2 - 1\n",
    "g3(x) = x[1] + x[2] - 1\n",
    "g1x = g1(x)\n",
    "g2x = g2(x)\n",
    "g3x = g3(x)\n",
    "println(\"g1 = $g1x\")\n",
    "println(\"g2 = $g2x\")\n",
    "println(\"g3 = $g3x\")"
   ]
  },
  {
   "cell_type": "markdown",
   "metadata": {},
   "source": [
    "within acceptable roundoff g1 and g2 are binding constraints.  We must now check if the KKT conditions are satisfied."
   ]
  },
  {
   "cell_type": "code",
   "execution_count": 128,
   "metadata": {},
   "outputs": [
    {
     "name": "stdout",
     "output_type": "stream",
     "text": [
      "λ₁ = 0.7785253137160885\n",
      "λ₂ = 1.0508005262435787\n"
     ]
    }
   ],
   "source": [
    "using NLsolve\n",
    "function f!(F, x)\n",
    "    F[1] = 2*x[1] - x[3] * 2.0 * x[1] + x[4]\n",
    "    F[2] = 1.0 - x[3] * 2.0 * x[2] - x[4] * -2 * x[2]\n",
    "    F[3] = x[1]^2.0 + x[2]^2.0 - 9.0\n",
    "    F[4] = -x[1] - x[2]^2.0 + 1.0\n",
    "end\n",
    "\n",
    "x0 = [-2.37; -1.836; -1.0; -1.0]\n",
    "sol = nlsolve(f!, x0)\n",
    "λ₁ = sol.zero[3]\n",
    "λ₂ = sol.zero[4]\n",
    "println(\"λ₁ = $λ₁\")\n",
    "println(\"λ₂ = $λ₂\")"
   ]
  },
  {
   "cell_type": "markdown",
   "metadata": {},
   "source": [
    "Because both $\\lambda$ values are positive the KKT conditions are satisfied. We now check the sufficient conditions."
   ]
  },
  {
   "cell_type": "code",
   "execution_count": 121,
   "metadata": {},
   "outputs": [
    {
     "name": "stdout",
     "output_type": "stream",
     "text": [
      "[0.442949 0.0; 0.0 0.54455]\n"
     ]
    },
    {
     "data": {
      "text/plain": [
       "true"
      ]
     },
     "execution_count": 121,
     "metadata": {},
     "output_type": "execute_result"
    }
   ],
   "source": [
    "hessf = [2 0; 0 0]\n",
    "hessg1 = [2 0; 0 2]\n",
    "hessg2 = [0 0; 0 -2]\n",
    "lagrangian = hessf - λ₁ * hessg1 - λ₂ * hessg2\n",
    "println(lagrangian)\n",
    "\n",
    "isposdef(lagrangian)"
   ]
  },
  {
   "cell_type": "markdown",
   "metadata": {},
   "source": [
    "Because the lagrangain function is positive definite the point is a constrained optimum\n",
    "\n",
    "### Verify that [-2.5, -1.6583] is not a local optimum"
   ]
  },
  {
   "cell_type": "code",
   "execution_count": 122,
   "metadata": {},
   "outputs": [
    {
     "name": "stdout",
     "output_type": "stream",
     "text": [
      "g1 = -4.1109999999733304e-5\n",
      "g2 = -0.7500411099999997\n",
      "g3 = -5.1583000000000006\n"
     ]
    }
   ],
   "source": [
    "x = [-2.5, -1.6583]\n",
    "g1x = g1(x)\n",
    "g2x = g2(x)\n",
    "g3x = g3(x)\n",
    "println(\"g1 = $g1x\")\n",
    "println(\"g2 = $g2x\")\n",
    "println(\"g3 = $g3x\")"
   ]
  },
  {
   "cell_type": "markdown",
   "metadata": {},
   "source": [
    "The only binding constraint is g1, but all of the constraints are feasible.\n",
    "we now solve for $\\lambda_1$\n",
    "$$2x_1 - \\lambda_1(2x_1) = 0\\\\\n",
    "\\lambda_1 = -2\\\\\n",
    "and\\\\\n",
    "1 - \\lambda_1(2x_2) = 0\\\\\n",
    "\\lambda_1 = 3.3$$\n",
    "because we cannot solve for a value of $\\lambda_1$ the point is not a local optimum"
   ]
  },
  {
   "cell_type": "markdown",
   "metadata": {},
   "source": [
    "### Drop the equality constraint from the problem. Using the countour plot above to see where the optimum lies, solve for the optimum using the KKT conditions.\n",
    "We see that only $g_2$ is binding the system of equations that we need to solve is then\n",
    "$$2x_1 + \\lambda_2(1) = 0\\\\\n",
    "1 + \\lambda_2(2x_2) = 0\\\\\n",
    "-x_1 - x_2^2 +1 = 0$$"
   ]
  },
  {
   "cell_type": "code",
   "execution_count": 123,
   "metadata": {},
   "outputs": [
    {
     "name": "stdout",
     "output_type": "stream",
     "text": [
      "x₁ = -0.2258029814778883\n",
      "x₂ = -1.1071598716887676\n",
      "λ₁ = 0.4516059629557766\n",
      "The potential optimum point is [-0.2258029814778883, -1.1071598716887676]\n",
      "The lagrangian is positive definite therefore the potential optimum is a constrained optimum\n"
     ]
    }
   ],
   "source": [
    "function f!(F, x)\n",
    "    F[1] = 2*x[1] + x[3]\n",
    "    F[2] = 1.0 - x[3] * -2 * x[2]\n",
    "    F[3] = -x[1] - x[2]^2.0 + 1.0\n",
    "end\n",
    "\n",
    "x0 = [-2.37; -1.836; -1.0]\n",
    "sol = nlsolve(f!, x0)\n",
    "x1 = sol.zero[1]\n",
    "x2 = sol.zero[2]\n",
    "λ₁ = sol.zero[3]\n",
    "println(\"x₁ = $x1\")\n",
    "println(\"x₂ = $x2\")\n",
    "println(\"λ₁ = $λ₁\")\n",
    "println(\"The potential optimum point is [$x1, $x2]\")\n",
    "\n",
    "lagr = hessf - λ₁ * hessg2\n",
    "isOpt = isposdef(lagr)\n",
    "if isOpt\n",
    "    println(\"The lagrangian is positive definite therefore the potential optimum is a constrained optimum\")\n",
    "end"
   ]
  },
  {
   "cell_type": "markdown",
   "metadata": {},
   "source": [
    "The point [-0.2258, -1.1072 is the constrained optimum for the problem without the equality constraint."
   ]
  },
  {
   "cell_type": "code",
   "execution_count": null,
   "metadata": {
    "collapsed": true
   },
   "outputs": [],
   "source": []
  }
 ],
 "metadata": {
  "kernelspec": {
   "display_name": "Julia 0.6.2",
   "language": "julia",
   "name": "julia-0.6"
  },
  "language_info": {
   "file_extension": ".jl",
   "mimetype": "application/julia",
   "name": "julia",
   "version": "0.6.2"
  }
 },
 "nbformat": 4,
 "nbformat_minor": 2
}
